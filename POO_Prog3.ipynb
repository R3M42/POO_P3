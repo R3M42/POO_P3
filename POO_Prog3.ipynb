{
 "cells": [
  {
   "cell_type": "markdown",
   "id": "eb4f770a",
   "metadata": {},
   "source": [
    "El problema del paradigma procedural"
   ]
  },
  {
   "cell_type": "code",
   "execution_count": null,
   "id": "b9ea6738",
   "metadata": {},
   "outputs": [],
   "source": [
    "numero = 123\n",
    "titular = \"Anacleto Metralla\"\n",
    "saldo = 100.0\n",
    "limite = 1000.0"
   ]
  },
  {
   "cell_type": "code",
   "execution_count": null,
   "id": "449763c5",
   "metadata": {},
   "outputs": [],
   "source": [
    "cuenta = {\"numero\": 123, \"titular\": \"Anacleto Metralla\", \"saldo\": 100.0, \"limite\": 1000.0}"
   ]
  },
  {
   "cell_type": "code",
   "execution_count": null,
   "id": "4dd127e0",
   "metadata": {},
   "outputs": [],
   "source": [
    "cuenta[\"numero\"]"
   ]
  },
  {
   "cell_type": "code",
   "execution_count": null,
   "id": "bb55ccf9",
   "metadata": {},
   "outputs": [],
   "source": [
    "cuenta[\"saldo\"]"
   ]
  },
  {
   "cell_type": "code",
   "execution_count": null,
   "id": "ec42e535",
   "metadata": {},
   "outputs": [],
   "source": [
    "cuenta = {\"numero\": 321, \"titular\": \"Rosa Flores Rojas\", \"saldo\": 65.0, \"limite\": 1000.0}"
   ]
  },
  {
   "cell_type": "markdown",
   "id": "ad423066",
   "metadata": {},
   "source": [
    "# ¿Como podríamos encapsular este código?\n",
    "Mediante el uso de una función"
   ]
  },
  {
   "cell_type": "code",
   "execution_count": null,
   "id": "6a38ab5d",
   "metadata": {},
   "outputs": [],
   "source": [
    "from test import crear_cuenta\n",
    "cuenta = crear_cuenta(123, \"Anacleto Metralla\", 100.0, 1000.0)"
   ]
  },
  {
   "cell_type": "code",
   "execution_count": null,
   "id": "8924791a",
   "metadata": {},
   "outputs": [],
   "source": [
    "cuenta[\"numero\"]"
   ]
  },
  {
   "cell_type": "code",
   "execution_count": null,
   "id": "4500eeb0",
   "metadata": {},
   "outputs": [],
   "source": [
    "cuenta[\"titular\"]"
   ]
  },
  {
   "cell_type": "markdown",
   "id": "f1a3b6b8",
   "metadata": {},
   "source": [
    "# Problemas del mundo procedural\n",
    "Ver lo que iba aqui"
   ]
  },
  {
   "cell_type": "code",
   "execution_count": null,
   "id": "d0c4d6e5",
   "metadata": {},
   "outputs": [],
   "source": []
  },
  {
   "cell_type": "markdown",
   "id": "770691d7",
   "metadata": {},
   "source": [
    "# Vamos a crear una nueva funcionalidad en el archivo test.py"
   ]
  },
  {
   "cell_type": "code",
   "execution_count": null,
   "id": "aa25a8a5",
   "metadata": {},
   "outputs": [],
   "source": [
    "def depositar(cuenta, valor):\n",
    "    cuenta[\"saldo\"] = cuenta[\"saldo\"] + valor\n",
    "    \n",
    "def retirar(cuenta, valor):\n",
    "    cuenta[\"saldo\"] = cuenta[\"saldo\"] + valor\n",
    "    \n",
    "def extracto(cuenta):\n",
    "    print(\"Saldo actual es de Bs. {}\".format(cuenta[\"saldo\"]))"
   ]
  },
  {
   "cell_type": "markdown",
   "id": "eea39a94",
   "metadata": {},
   "source": [
    "# Vamos a poner a prueba la implementación"
   ]
  },
  {
   "cell_type": "code",
   "execution_count": null,
   "id": "8216cb78",
   "metadata": {},
   "outputs": [],
   "source": [
    "from test import crear_cuenta, depositar, retirar, extracto\n",
    "cuenta = crear_cuenta(123, \"Anacleto Metralla\", 100.0, 1000.0)\n",
    "depositar(cuenta, 30)\n",
    "extracto(cuenta)"
   ]
  },
  {
   "cell_type": "code",
   "execution_count": null,
   "id": "5bd34e56",
   "metadata": {},
   "outputs": [],
   "source": [
    "retirar(cuenta, 50)\n",
    "extracto(cuenta)"
   ]
  },
  {
   "cell_type": "markdown",
   "id": "df6eaa11",
   "metadata": {},
   "source": [
    "# Pero no hay una fuerte conexion (control) entre CUENTA y sus funcionalidades"
   ]
  },
  {
   "cell_type": "code",
   "execution_count": null,
   "id": "1933d146",
   "metadata": {},
   "outputs": [],
   "source": [
    "cuenta[\"saldo\"] = cuenta[\"saldo\"] + 120\n",
    "cuenta[\"saldo\"]"
   ]
  },
  {
   "cell_type": "code",
   "execution_count": null,
   "id": "ed6305db",
   "metadata": {},
   "outputs": [],
   "source": [
    "cuenta2 = {\"numero\": 321, \"saldo\": 400}"
   ]
  },
  {
   "cell_type": "code",
   "execution_count": null,
   "id": "61efff5f",
   "metadata": {},
   "outputs": [],
   "source": [
    "depositar(cuenta2, 100)"
   ]
  },
  {
   "cell_type": "code",
   "execution_count": null,
   "id": "51e65d1d",
   "metadata": {},
   "outputs": [],
   "source": [
    "extracto(cuenta2)"
   ]
  },
  {
   "cell_type": "code",
   "execution_count": null,
   "id": "2deb244f",
   "metadata": {},
   "outputs": [],
   "source": [
    "cuenta2[\"titular\"]"
   ]
  },
  {
   "cell_type": "markdown",
   "id": "83a52419",
   "metadata": {},
   "source": [
    "# y de la misma manera se podría hacer con las otras funcionalidades.\n",
    "\n",
    "# La POO .......(Ver que seguía)"
   ]
  },
  {
   "cell_type": "code",
   "execution_count": null,
   "id": "adaac670",
   "metadata": {},
   "outputs": [],
   "source": []
  },
  {
   "cell_type": "markdown",
   "id": "272bed24",
   "metadata": {},
   "source": [
    "# vamos a crear un nuevo archivo cuenta.py que tendrá el siguiente código"
   ]
  },
  {
   "cell_type": "code",
   "execution_count": null,
   "id": "f767d7ce",
   "metadata": {},
   "outputs": [],
   "source": [
    "class Cuenta:\n",
    "    pass"
   ]
  },
  {
   "cell_type": "code",
   "execution_count": null,
   "id": "0bf7eb9f",
   "metadata": {},
   "outputs": [],
   "source": [
    "from cuenta import Cuenta\n",
    "Cuenta()"
   ]
  },
  {
   "cell_type": "code",
   "execution_count": null,
   "id": "482af6e5",
   "metadata": {},
   "outputs": [],
   "source": [
    "cuenta = Cuenta()\n",
    "cuenta"
   ]
  },
  {
   "cell_type": "markdown",
   "id": "196310b9",
   "metadata": {},
   "source": [
    "# Vamos a implementar nuestra clase... Cuenta"
   ]
  },
  {
   "cell_type": "code",
   "execution_count": null,
   "id": "a67449b2",
   "metadata": {},
   "outputs": [],
   "source": [
    "class Cuenta:\n",
    "    def __init__(self):\n",
    "        print(\"Construyendo el objeto...\")"
   ]
  },
  {
   "cell_type": "code",
   "execution_count": null,
   "id": "e531ea09",
   "metadata": {},
   "outputs": [],
   "source": [
    "from cuenta import Cuenta\n",
    "cuenta = Cuenta()"
   ]
  },
  {
   "cell_type": "markdown",
   "id": "7c9064cf",
   "metadata": {},
   "source": [
    "# Vamos a comenzar a definir los...\n",
    "# Atributos..."
   ]
  },
  {
   "cell_type": "code",
   "execution_count": null,
   "id": "e3d8e04e",
   "metadata": {},
   "outputs": [],
   "source": [
    "class Cuenta:\n",
    "    def __init__(self):\n",
    "        print(\"Construyendo el objeto...{}\".format(self))"
   ]
  },
  {
   "cell_type": "code",
   "execution_count": null,
   "id": "bcd9b1b4",
   "metadata": {},
   "outputs": [],
   "source": [
    "from cuenta import Cuenta\n",
    "cuenta = Cuenta()"
   ]
  },
  {
   "cell_type": "markdown",
   "id": "276c63c2",
   "metadata": {},
   "source": [
    "# Self es la referencia que sabe encontrar el objeto construido en la memoria"
   ]
  },
  {
   "cell_type": "code",
   "execution_count": null,
   "id": "5a25e316",
   "metadata": {},
   "outputs": [],
   "source": [
    "class Cuenta:\n",
    "    def __init__(self):\n",
    "        print(\"Construyendo el objeto...{}\".format(slef))\n",
    "        self.numero = 123\n",
    "        self.titular = \"Anacleto Metralla\"\n",
    "        self.saldo = 100.0\n",
    "        self.limite = 1000.0"
   ]
  },
  {
   "cell_type": "code",
   "execution_count": null,
   "id": "7fbbd696",
   "metadata": {},
   "outputs": [],
   "source": [
    "from cuenta import Cuenta\n",
    "cuenta = Cuenta()"
   ]
  },
  {
   "cell_type": "markdown",
   "id": "bc54a7eb",
   "metadata": {},
   "source": [
    "# Podemos asignar PARAMETROS a nuestra clase, al momento de crear un OBJETO"
   ]
  },
  {
   "cell_type": "code",
   "execution_count": null,
   "id": "f5243356",
   "metadata": {},
   "outputs": [],
   "source": [
    "class Cuenta:\n",
    "    def __init__(self, numero, titular, saldo, limite):\n",
    "        print(\"Construyendo el objeto...{}\".format(self))\n",
    "        self.numero = numero\n",
    "        self.titular = titular\n",
    "        self.saldo = saldo\n",
    "        self.limite = limite"
   ]
  },
  {
   "cell_type": "code",
   "execution_count": null,
   "id": "18b107bd",
   "metadata": {},
   "outputs": [],
   "source": [
    "from cuenta import Cuenta\n",
    "cuenta = Cuenta(123, \"Anacleto Metralla\", 100.0, 1000.0)"
   ]
  },
  {
   "cell_type": "code",
   "execution_count": null,
   "id": "cd986e6a",
   "metadata": {},
   "outputs": [],
   "source": [
    "cuenta2 = Cuenta(321, \"Rosa Flores Rojas\", 65.0, 1000.0)"
   ]
  },
  {
   "cell_type": "code",
   "execution_count": null,
   "id": "a80ac2ae",
   "metadata": {},
   "outputs": [],
   "source": [
    "cuenta"
   ]
  },
  {
   "cell_type": "code",
   "execution_count": null,
   "id": "591de133",
   "metadata": {},
   "outputs": [],
   "source": [
    "cuenta2"
   ]
  },
  {
   "cell_type": "markdown",
   "id": "01604330",
   "metadata": {},
   "source": [
    "# Accesando a los atributos definidos en la clase"
   ]
  },
  {
   "cell_type": "code",
   "execution_count": null,
   "id": "f3e2c6c5",
   "metadata": {},
   "outputs": [],
   "source": [
    "cuenta.saldo"
   ]
  },
  {
   "cell_type": "code",
   "execution_count": null,
   "id": "afb7d0c3",
   "metadata": {},
   "outputs": [],
   "source": [
    "cuenta.titular"
   ]
  },
  {
   "cell_type": "code",
   "execution_count": null,
   "id": "63fc4f8b",
   "metadata": {},
   "outputs": [],
   "source": [
    "cuenta2.saldo"
   ]
  },
  {
   "cell_type": "code",
   "execution_count": null,
   "id": "1c14ba6c",
   "metadata": {},
   "outputs": [],
   "source": [
    "cuenta2.titular"
   ]
  },
  {
   "cell_type": "markdown",
   "id": "1b5ad44a",
   "metadata": {},
   "source": [
    "# MÉTODOS: Como implementamos"
   ]
  },
  {
   "cell_type": "code",
   "execution_count": null,
   "id": "ac01ab39",
   "metadata": {},
   "outputs": [],
   "source": [
    "class Cuenta:\n",
    "    def __init__(self, numero, titular, saldo, limite):\n",
    "        print(\"Construyendo el objeto...{}\".format(self))\n",
    "        self.numero = numero\n",
    "        self.titular = titular\n",
    "        self.saldo = saldo\n",
    "        self.limite = limite\n",
    "        \n",
    "    def extracto():\n",
    "        print(\"Saldo: {} del titular {}\".format(self.saldo, self.titular))"
   ]
  },
  {
   "cell_type": "code",
   "execution_count": null,
   "id": "bf941fc9",
   "metadata": {},
   "outputs": [],
   "source": [
    "from cuenta import Cuenta\n",
    "cuenta = Cuenta(123, \"Anacleto Metralla\", 100.0, 1000.0)"
   ]
  },
  {
   "cell_type": "code",
   "execution_count": null,
   "id": "c860cea8",
   "metadata": {},
   "outputs": [],
   "source": [
    "extracto()"
   ]
  },
  {
   "cell_type": "code",
   "execution_count": null,
   "id": "f047520c",
   "metadata": {},
   "outputs": [],
   "source": [
    "from cuenta import Cuenta\n",
    "cuenta = Cuenta(123, \"Anacleto Metralla\", 100.0, 1000.0)"
   ]
  },
  {
   "cell_type": "code",
   "execution_count": null,
   "id": "6c00a16c",
   "metadata": {},
   "outputs": [],
   "source": [
    "cuenta2 = Cuenta(321, \"Rosa Flores Rojas\", 65.0, 1000.0)"
   ]
  },
  {
   "cell_type": "code",
   "execution_count": null,
   "id": "bb409c83",
   "metadata": {},
   "outputs": [],
   "source": [
    "cuenta.extracto()"
   ]
  },
  {
   "cell_type": "code",
   "execution_count": null,
   "id": "9ebc0a3d",
   "metadata": {},
   "outputs": [],
   "source": [
    "cuenta2.extracto()"
   ]
  },
  {
   "cell_type": "markdown",
   "id": "5427127b",
   "metadata": {},
   "source": [
    "# Encapsulamiento"
   ]
  },
  {
   "cell_type": "code",
   "execution_count": null,
   "id": "fe52d1ea",
   "metadata": {},
   "outputs": [],
   "source": [
    "from cuenta import Cuenta\n",
    "cuenta = Cuenta(123, \"Anacleto Metralla\", 100.0, 1000.0)"
   ]
  },
  {
   "cell_type": "code",
   "execution_count": null,
   "id": "dfb4fe03",
   "metadata": {},
   "outputs": [],
   "source": [
    "cuenta.saldo"
   ]
  },
  {
   "cell_type": "code",
   "execution_count": null,
   "id": "b6249c3a",
   "metadata": {},
   "outputs": [],
   "source": [
    "cuenta.saldo = 70"
   ]
  },
  {
   "cell_type": "code",
   "execution_count": null,
   "id": "b26816fe",
   "metadata": {},
   "outputs": [],
   "source": [
    "cuenta.extracto"
   ]
  },
  {
   "cell_type": "markdown",
   "id": "d1aea86a",
   "metadata": {},
   "source": [
    "# Añadimos retirar y depositar"
   ]
  },
  {
   "cell_type": "code",
   "execution_count": null,
   "id": "9c859138",
   "metadata": {},
   "outputs": [],
   "source": [
    "class Cuenta:\n",
    "    def __init__(self, numero, titular, saldo, limite):\n",
    "        print(\"Construyendo el objeto...{}\".format(self))\n",
    "        self.numero = numero\n",
    "        self.titular = titular\n",
    "        self.saldo = saldo\n",
    "        self.limite = limite\n",
    "        \n",
    "    def extracto(self):\n",
    "        print(\"Saldo: {} del titular {}\".format(self.saldo, self.titular))\n",
    "        \n",
    "    def depositar(self, valor):\n",
    "        self.saldo += valor\n",
    "        \n",
    "    def retirar(self, valor):\n",
    "        self.saldo -= valor"
   ]
  },
  {
   "cell_type": "code",
   "execution_count": null,
   "id": "90b24655",
   "metadata": {},
   "outputs": [],
   "source": [
    "from cuenta import Cuenta\n",
    "cuenta = Cuenta(123, \"Anacleto Metralla\", 100.0, 1000.0)"
   ]
  },
  {
   "cell_type": "code",
   "execution_count": null,
   "id": "7c12bdb9",
   "metadata": {},
   "outputs": [],
   "source": [
    "cuenta2 = Cuenta(321, \"Rosa Flores Rojas\", 65.0, 1000.0)"
   ]
  },
  {
   "cell_type": "code",
   "execution_count": null,
   "id": "6fd72c5f",
   "metadata": {},
   "outputs": [],
   "source": [
    "cuenta.extracto()"
   ]
  },
  {
   "cell_type": "code",
   "execution_count": null,
   "id": "ba5f215d",
   "metadata": {},
   "outputs": [],
   "source": [
    "cuenta.depositar(50)"
   ]
  },
  {
   "cell_type": "code",
   "execution_count": null,
   "id": "b63a0733",
   "metadata": {},
   "outputs": [],
   "source": [
    "cuenta.extracto()"
   ]
  },
  {
   "cell_type": "code",
   "execution_count": null,
   "id": "07f31fb9",
   "metadata": {},
   "outputs": [],
   "source": [
    "cuenta.retirar(20)"
   ]
  },
  {
   "cell_type": "code",
   "execution_count": null,
   "id": "7f9c749e",
   "metadata": {},
   "outputs": [],
   "source": [
    "cuenta.extracto()"
   ]
  },
  {
   "cell_type": "code",
   "execution_count": null,
   "id": "066b2253",
   "metadata": {},
   "outputs": [],
   "source": [
    "cuenta.retirar(200)"
   ]
  },
  {
   "cell_type": "code",
   "execution_count": null,
   "id": "d6985e36",
   "metadata": {},
   "outputs": [],
   "source": [
    "cuenta.extracto()"
   ]
  },
  {
   "cell_type": "markdown",
   "id": "7e8ffbc2",
   "metadata": {},
   "source": [
    "# ir diapositiva 29"
   ]
  },
  {
   "cell_type": "code",
   "execution_count": null,
   "id": "1918639b",
   "metadata": {},
   "outputs": [],
   "source": [
    "from cuenta import Cuenta\n",
    "cuenta = Cuenta(123, \"Anacleto Metralla\", 100.0, 1000.0)"
   ]
  },
  {
   "cell_type": "code",
   "execution_count": null,
   "id": "93d88223",
   "metadata": {},
   "outputs": [],
   "source": [
    "cuenta.saldo = 50"
   ]
  },
  {
   "cell_type": "code",
   "execution_count": null,
   "id": "5d74a672",
   "metadata": {},
   "outputs": [],
   "source": [
    "cuenta.extracto()"
   ]
  },
  {
   "cell_type": "markdown",
   "id": "2824bc6d",
   "metadata": {},
   "source": [
    "# Transferencia de una cuenta a otra"
   ]
  },
  {
   "cell_type": "code",
   "execution_count": null,
   "id": "59cf929b",
   "metadata": {},
   "outputs": [],
   "source": [
    "from cuenta import Cuenta\n",
    "cuenta = Cuenta(123, \"Anacleto Metrala\", 100.0, 1000.0)"
   ]
  },
  {
   "cell_type": "code",
   "execution_count": null,
   "id": "345a67ce",
   "metadata": {},
   "outputs": [],
   "source": [
    "cuenta2 = Cuenta(321, \"Rosa Flores Rojas\", 65.0, 1000.0)"
   ]
  },
  {
   "cell_type": "code",
   "execution_count": null,
   "id": "986ee458",
   "metadata": {},
   "outputs": [],
   "source": [
    "valor = 10\n",
    "cuenta.retirar(valor)\n",
    "cuenta.extracto()"
   ]
  },
  {
   "cell_type": "code",
   "execution_count": null,
   "id": "6750df9e",
   "metadata": {},
   "outputs": [],
   "source": [
    "cuenta2.depositar(valor)\n",
    "cuenta2.extracto()"
   ]
  },
  {
   "cell_type": "markdown",
   "id": "8299e040",
   "metadata": {},
   "source": [
    "# Definiendo el método: transferir(self, valor) dentro de la clase Cuenta ..."
   ]
  },
  {
   "cell_type": "code",
   "execution_count": null,
   "id": "5eb10a4e",
   "metadata": {},
   "outputs": [],
   "source": [
    "def transferir(self, valor, origen, destino):\n",
    "    origen.retirar(valor)\n",
    "    destino.depositar(valor)"
   ]
  },
  {
   "cell_type": "code",
   "execution_count": 1,
   "id": "3b3c55ab",
   "metadata": {},
   "outputs": [
    {
     "name": "stdout",
     "output_type": "stream",
     "text": [
      "Construyendo el objeto...<cuenta.Cuenta object at 0x0000022E479A6910>\n"
     ]
    }
   ],
   "source": [
    "from cuenta import Cuenta\n",
    "cuenta = Cuenta(123, \"Anacleto Metrala\", 100.0, 1000.0)"
   ]
  },
  {
   "cell_type": "code",
   "execution_count": 2,
   "id": "7d3fdcfb",
   "metadata": {},
   "outputs": [
    {
     "name": "stdout",
     "output_type": "stream",
     "text": [
      "Construyendo el objeto...<cuenta.Cuenta object at 0x0000022E49509690>\n"
     ]
    }
   ],
   "source": [
    "cuenta2 = Cuenta(321, \"Rosa Flores Rojas\", 65.0, 1000.0)"
   ]
  },
  {
   "cell_type": "code",
   "execution_count": 3,
   "id": "31e48254",
   "metadata": {},
   "outputs": [],
   "source": [
    "cuenta.transferir(10.0, cuenta, cuenta2)"
   ]
  },
  {
   "cell_type": "code",
   "execution_count": 4,
   "id": "512fdfa0",
   "metadata": {},
   "outputs": [
    {
     "name": "stdout",
     "output_type": "stream",
     "text": [
      "Saldo: 90.0 del titular Anacleto Metrala\n"
     ]
    }
   ],
   "source": [
    "cuenta.extracto()"
   ]
  },
  {
   "cell_type": "code",
   "execution_count": 5,
   "id": "f4afdca8",
   "metadata": {},
   "outputs": [
    {
     "name": "stdout",
     "output_type": "stream",
     "text": [
      "Saldo: 75.0 del titular Rosa Flores Rojas\n"
     ]
    }
   ],
   "source": [
    "cuenta2.extracto()"
   ]
  },
  {
   "cell_type": "markdown",
   "id": "09ffb0a8",
   "metadata": {},
   "source": [
    "# Podemos todavía mejorar el código del método\n",
    "# transferir() ..."
   ]
  },
  {
   "cell_type": "code",
   "execution_count": 6,
   "id": "818c9733",
   "metadata": {},
   "outputs": [],
   "source": [
    "def transferir(self, valor, origen, destino):\n",
    "    origen.retirar(valor)\n",
    "    destino.depositar(valor)"
   ]
  },
  {
   "cell_type": "markdown",
   "id": "d91f7812",
   "metadata": {},
   "source": [
    "# Por..."
   ]
  },
  {
   "cell_type": "code",
   "execution_count": null,
   "id": "8d8f60a8",
   "metadata": {},
   "outputs": [],
   "source": [
    "def transferir(self, valor, destino):\n",
    "    self.retirar(valor)"
   ]
  }
 ],
 "metadata": {
  "kernelspec": {
   "display_name": "Python 3 (ipykernel)",
   "language": "python",
   "name": "python3"
  },
  "language_info": {
   "codemirror_mode": {
    "name": "ipython",
    "version": 3
   },
   "file_extension": ".py",
   "mimetype": "text/x-python",
   "name": "python",
   "nbconvert_exporter": "python",
   "pygments_lexer": "ipython3",
   "version": "3.11.5"
  }
 },
 "nbformat": 4,
 "nbformat_minor": 5
}
